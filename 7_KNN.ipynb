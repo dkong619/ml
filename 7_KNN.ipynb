{
 "cells": [
  {
   "cell_type": "code",
   "execution_count": 1,
   "id": "b87f7d3c",
   "metadata": {},
   "outputs": [],
   "source": [
    "import pandas as pd\n",
    "from sklearn.neighbors import KNeighborsClassifier\n",
    "from sklearn.model_selection import train_test_split\n",
    "from sklearn.datasets import load_iris\n",
    "import numpy as np"
   ]
  },
  {
   "cell_type": "code",
   "execution_count": 2,
   "id": "0f85a459",
   "metadata": {},
   "outputs": [
    {
     "data": {
      "text/plain": [
       "array(['Setosa', 'Versicolor', 'Virginica'], dtype=object)"
      ]
     },
     "execution_count": 2,
     "metadata": {},
     "output_type": "execute_result"
    }
   ],
   "source": [
    "df = pd.read_csv('iris.csv')\n",
    "df.head()\n",
    "df['variety'].unique()"
   ]
  },
  {
   "cell_type": "code",
   "execution_count": 3,
   "id": "21f8a796",
   "metadata": {},
   "outputs": [
    {
     "name": "stdout",
     "output_type": "stream",
     "text": [
      "the prediction is [1 1 1 1 1 3 2 1 3 2 2 1 2 2 3]\n"
     ]
    },
    {
     "name": "stderr",
     "output_type": "stream",
     "text": [
      "D:\\Anaconda\\Software\\lib\\site-packages\\sklearn\\neighbors\\_classification.py:228: FutureWarning: Unlike other reduction functions (e.g. `skew`, `kurtosis`), the default behavior of `mode` typically preserves the axis it acts along. In SciPy 1.11.0, this behavior will change: the default value of `keepdims` will become False, the `axis` over which the statistic is taken will be eliminated, and the value None will no longer be accepted. Set `keepdims` to True or False to avoid this warning.\n",
      "  mode, _ = stats.mode(_y[neigh_ind, k], axis=1)\n"
     ]
    }
   ],
   "source": [
    "x = df[['sepal.length','sepal.width','petal.length','petal.width']]\n",
    "y = df['variety'].replace({'Setosa':1, 'Versicolor':2, 'Virginica':3 })\n",
    "train_x, test_x , train_y, test_y= train_test_split(x,y,test_size=0.1,random_state=3, shuffle=True)\n",
    "knn = KNeighborsClassifier(n_neighbors=3)\n",
    "knn.fit(train_x,train_y)\n",
    "pred_y = knn.predict(test_x)\n",
    "print('the prediction is',pred_y)"
   ]
  },
  {
   "cell_type": "code",
   "execution_count": 4,
   "id": "53c8a3dd",
   "metadata": {},
   "outputs": [
    {
     "name": "stdout",
     "output_type": "stream",
     "text": [
      "Actual expected results are: [1, 1, 1, 1, 1, 3, 2, 1, 3, 2, 2, 1, 2, 2, 3]\n"
     ]
    }
   ],
   "source": [
    "print('Actual expected results are:', list(test_y))"
   ]
  },
  {
   "cell_type": "code",
   "execution_count": 5,
   "id": "45a1d60e",
   "metadata": {},
   "outputs": [
    {
     "name": "stdout",
     "output_type": "stream",
     "text": [
      "number of incorrect classifications are\n",
      "0\n"
     ]
    }
   ],
   "source": [
    "print('number of incorrect classifications are')\n",
    "diff = np.array(pred_y) - np.array(test_y)\n",
    "print(len(diff) - list(diff).count(0))"
   ]
  },
  {
   "cell_type": "code",
   "execution_count": null,
   "id": "e786a318",
   "metadata": {},
   "outputs": [],
   "source": []
  }
 ],
 "metadata": {
  "kernelspec": {
   "display_name": "Python 3 (ipykernel)",
   "language": "python",
   "name": "python3"
  },
  "language_info": {
   "codemirror_mode": {
    "name": "ipython",
    "version": 3
   },
   "file_extension": ".py",
   "mimetype": "text/x-python",
   "name": "python",
   "nbconvert_exporter": "python",
   "pygments_lexer": "ipython3",
   "version": "3.9.13"
  }
 },
 "nbformat": 4,
 "nbformat_minor": 5
}
